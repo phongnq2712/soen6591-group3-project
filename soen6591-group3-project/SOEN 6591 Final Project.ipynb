{
 "cells": [
  {
   "cell_type": "code",
   "execution_count": null,
   "id": "58644804-466b-46cf-a374-59c8942b14bd",
   "metadata": {},
   "outputs": [],
   "source": [
    "suppressMessages(require(rms, quietly = TRUE, warn.conflicts = FALSE))\n",
    "require(splines, quietly = TRUE)\n",
    "require(plotly, quietly = TRUE, warn.conflicts = FALSE)\n",
    "require(Hmisc, quietly = TRUE)\n",
    "require(e1071, quietly = TRUE)\n",
    "require(caret, quietly = TRUE)\n",
    "require(BiodiversityR, quietly = TRUE)\n",
    "require(logistf, quietly = TRUE)\n",
    "require(rmarkdown, quietly = TRUE)"
   ]
  },
  {
   "cell_type": "code",
   "execution_count": 12,
   "id": "d4c3c58e-056b-4c98-a88e-7de098be9896",
   "metadata": {},
   "outputs": [],
   "source": [
    "data <- read.csv(\"https://raw.githubusercontent.com/asiftanim/SOEN-6591---Software-Repository-Mining/main/project%20csv/all_merged.csv\")"
   ]
  },
  {
   "cell_type": "code",
   "execution_count": 9,
   "id": "35ebff95-a979-4b60-aeda-6644abf838ef",
   "metadata": {},
   "outputs": [],
   "source": [
    "NA_THRESHOLD = 0.5\n",
    "CORR_THRESHOLD = 0.7\n",
    "\n",
    "myProjectList <- function(x, projects) {\n",
    "  temp_list = vector(\"list\", 0)\n",
    "  \n",
    "  for (i in 1:length(projects)) {\n",
    "    temp_project_data <- x[x[,\"Project\"] == projects[i],]\n",
    "    temp_list <- c(temp_list, list(temp_project_data))\n",
    "  }\n",
    "  return (temp_list)\n",
    "}\n",
    "\n",
    "myMissingData <- function(x) {  \n",
    "  \n",
    "  temp_naclus = naclus(x)\n",
    "  plot(temp_naclus)\n",
    "  \n",
    "  if (sum(temp_naclus$sim < NA_THRESHOLD)) {\n",
    "    temp_project_data_omitted <- na.omit(x)\n",
    "    print(paste(\"MissingData: Small fraction found: Single imputation or discard. Discard is chosen. Discarded rows:\",nrow(x)-nrow(temp_project_data_omitted), \"/\", nrow(x)))\n",
    "  } else {\n",
    "    # TODO: implement multiple imputation\n",
    "    temp_project_data_omitted = x\n",
    "    print(paste(\"MissingData: High fraction found: Multiple imputation needed! Discarded rows:\",nrow(x)-nrow(temp_project_data_omitted), \"/\", nrow(x)))\n",
    "  }\n",
    "  return(as.data.frame(temp_project_data_omitted))\n",
    "}"
   ]
  },
  {
   "cell_type": "code",
   "execution_count": 10,
   "id": "ebef4b6d-922f-44f4-8668-1e7900f361a8",
   "metadata": {},
   "outputs": [],
   "source": [
    "projects = as.vector(unique(data$Project))\n",
    "\n",
    "data_list = myProjectList(data,projects)"
   ]
  },
  {
   "cell_type": "code",
   "execution_count": null,
   "id": "4473aaa6-530b-40b3-9b5d-11ddec4d4718",
   "metadata": {},
   "outputs": [],
   "source": [
    "all_no_missing = vector(\"list\", 0)\n",
    "for (i in 1:length(projects)) {\n",
    "  print(paste(\"Project:\", projects[i]))\n",
    "  temp_data = as.data.frame(data_list[i])\n",
    "  \n",
    "  temp_omitted = myMissingData(temp_data)\n",
    "  all_no_missing <- c(all_no_missing, list(temp_omitted))\n",
    "}"
   ]
  },
  {
   "cell_type": "code",
   "execution_count": null,
   "id": "d0a37407-5bbd-428f-94d9-ffd2b6798c2d",
   "metadata": {},
   "outputs": [],
   "source": [
    "all_list_omitted_1 = data_list\n",
    "all_list_omitted = all_list_omitted_1\n",
    "\n",
    "all_list_omitted = vector(\"list\", 0)\n",
    "for (i in 1:length(projects)) {\n",
    "  print(paste(\"Project:\", projects[i]))\n",
    "  temp_data = as.data.frame(all_list_omitted_1[i])\n",
    "  print(paste(\"nrow:\",nrow(temp_data),\"ncol:\",ncol(temp_data)))\n",
    "\n",
    "  #Don't do anything in here, repack only.\n",
    "\n",
    "  all_list_omitted <- c(all_list_omitted, list(list(project=projects[i], data=temp_data)))\n",
    "}"
   ]
  },
  {
   "cell_type": "code",
   "execution_count": null,
   "id": "9182d105-4027-4361-99b4-2a7dbb292550",
   "metadata": {},
   "outputs": [],
   "source": [
    "source(file = \"/Users/asiftanim/Documents/Concordia/4.\\ Winter\\ 2023/analysis_functions.R\")\n",
    "source(file = \"/Users/asiftanim/Documents/Concordia/4.\\ Winter\\ 2023/construction_functions.R\")"
   ]
  },
  {
   "cell_type": "code",
   "execution_count": null,
   "id": "5191a8b9-3e36-406d-957c-a1f2cc29db21",
   "metadata": {},
   "outputs": [],
   "source": [
    "modelSelectionAndNormalityAdjustment(all_list_omitted)"
   ]
  },
  {
   "cell_type": "code",
   "execution_count": null,
   "id": "cd9ae06a-13c8-4a86-930b-95d48948b820",
   "metadata": {},
   "outputs": [],
   "source": [
    "dropToPredict = c(\"FilePath\",  \"Project\",\"Name\",\"Kind\", \"File\", \"POST.ReleaseDefects\")"
   ]
  },
  {
   "cell_type": "code",
   "execution_count": null,
   "id": "2678d3a6-d8d5-4d5c-ade5-7f9a909a383d",
   "metadata": {},
   "outputs": [],
   "source": [
    "data_list_low_corr = vector(\"list\", 0)\n",
    "  for (i in 1:length(projects)) {\n",
    "    print(paste(\"Project:\", projects[i]))\n",
    "    #x = as.data.frame(data_list[i])\n",
    "    \n",
    "    independent = data[,!(names(data) %in% dropToPredict)]\n",
    "    temp_project_varclus = varclus(~ ., data=independent, trans=\"abs\")\n",
    "    plot(temp_project_varclus)\n",
    "\n",
    "    data_list_low_corr <- c(data_list_low_corr, list(temp_data))\n",
    "  }\n",
    "\n"
   ]
  },
  {
   "cell_type": "code",
   "execution_count": null,
   "id": "24d1bf9a-953b-404d-b130-9b5862ab4e80",
   "metadata": {},
   "outputs": [],
   "source": [
    "drop2=c(\"POST.ReleaseDefects\", \"LogandThrowDetector\")\n",
    "independant=data[,!(names(data) %in% drop2)]\n",
    "\n",
    "##########correlation \n",
    "correlations <- cor(independant, method=\"spearman\") \n",
    "highCorr <- findCorrelation(correlations, cutoff = .75)\n",
    "\n",
    "low_cor_names=names(independant[, -highCorr])\n",
    "\n",
    "low_cor_data= independant[(names(independant) %in% low_cor_names)]\n",
    "dataforredun=low_cor_data\n",
    "\n",
    "#########start redun\n",
    "redun_obj = redun (~. ,data = dataforredun ,nk =0)\n",
    "after_redun= dataforredun[,!(names(dataforredun) %in% redun_obj $Out)]\n",
    "redun_obj"
   ]
  },
  {
   "cell_type": "code",
   "execution_count": null,
   "id": "36887c59-86e8-4892-a66a-e401a317282f",
   "metadata": {},
   "outputs": [],
   "source": [
    "############ model\n",
    "form=as.formula(paste(\"POST.ReleaseDefects>0~\",paste(names(after_redun),collapse=\"+\")))\n",
    "\n",
    "model=glm(formula=form, data=log10(data+1), family = binomial(link = \"logit\"))\n",
    "model\n",
    "summary(model)"
   ]
  }
 ],
 "metadata": {
  "kernelspec": {
   "display_name": "R",
   "language": "R",
   "name": "ir"
  },
  "language_info": {
   "codemirror_mode": "r",
   "file_extension": ".r",
   "mimetype": "text/x-r-source",
   "name": "R",
   "pygments_lexer": "r",
   "version": "3.6.1"
  }
 },
 "nbformat": 4,
 "nbformat_minor": 5
}
